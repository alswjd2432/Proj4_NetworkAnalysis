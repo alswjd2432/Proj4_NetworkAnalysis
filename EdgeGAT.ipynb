{
  "cells": [
    {
      "cell_type": "code",
      "execution_count": null,
      "metadata": {},
      "outputs": [],
      "source": [
        "import numpy as np\n",
        "import pandas as pd\n",
        "import os\n",
        "import torch\n",
        "import warnings\n",
        "import torch.nn as nn\n",
        "import torch.nn.functional as F\n",
        "import dgl\n",
        "from dgl.data import DGLDataset\n",
        "from torch.optim import Adam\n",
        "import tqdm as tqdm\n",
        "from sklearn.model_selection import train_test_split\n",
        "from sklearn.metrics import roc_curve, auc, f1_score, recall_score, roc_auc_score\n",
        "import optuna\n",
        "from optuna import trial\n",
        "from optuna.samplers import TPESampler\n",
        "\n",
        "\n",
        "warnings.filterwarnings('ignore')\n",
        "np.random.seed(12)\n",
        "torch.manual_seed(12)"
      ]
    },
    {
      "attachments": {},
      "cell_type": "markdown",
      "metadata": {
        "id": "TR9nRhE8Vo2s"
      },
      "source": [
        "# GPU Setting"
      ]
    },
    {
      "cell_type": "code",
      "execution_count": null,
      "metadata": {
        "id": "AVDRJUqFVlqr"
      },
      "outputs": [],
      "source": [
        "print(dgl.__version__)"
      ]
    },
    {
      "cell_type": "code",
      "execution_count": null,
      "metadata": {
        "colab": {
          "base_uri": "https://localhost:8080/"
        },
        "id": "XLlbWBIzVnqD",
        "outputId": "3b897e61-25f3-4cd7-f575-2e774440f847"
      },
      "outputs": [
        {
          "name": "stdout",
          "output_type": "stream",
          "text": [
            "Fri Jun 30 08:08:34 2023       \n",
            "+-----------------------------------------------------------------------------+\n",
            "| NVIDIA-SMI 525.85.12    Driver Version: 525.85.12    CUDA Version: 12.0     |\n",
            "|-------------------------------+----------------------+----------------------+\n",
            "| GPU  Name        Persistence-M| Bus-Id        Disp.A | Volatile Uncorr. ECC |\n",
            "| Fan  Temp  Perf  Pwr:Usage/Cap|         Memory-Usage | GPU-Util  Compute M. |\n",
            "|                               |                      |               MIG M. |\n",
            "|===============================+======================+======================|\n",
            "|   0  Tesla T4            Off  | 00000000:00:04.0 Off |                    0 |\n",
            "| N/A   54C    P8    11W /  70W |      0MiB / 15360MiB |      0%      Default |\n",
            "|                               |                      |                  N/A |\n",
            "+-------------------------------+----------------------+----------------------+\n",
            "                                                                               \n",
            "+-----------------------------------------------------------------------------+\n",
            "| Processes:                                                                  |\n",
            "|  GPU   GI   CI        PID   Type   Process name                  GPU Memory |\n",
            "|        ID   ID                                                   Usage      |\n",
            "|=============================================================================|\n",
            "|  No running processes found                                                 |\n",
            "+-----------------------------------------------------------------------------+\n"
          ]
        }
      ],
      "source": [
        "!nvidia-smi"
      ]
    },
    {
      "cell_type": "code",
      "execution_count": null,
      "metadata": {
        "id": "G8zujTKwVnsh"
      },
      "outputs": [],
      "source": [
        "device = torch.device('cuda' if torch.cuda.is_availabe() else 'cpu')"
      ]
    },
    {
      "attachments": {},
      "cell_type": "markdown",
      "metadata": {
        "id": "SzD_VR4WWVCh"
      },
      "source": [
        "# Data Load"
      ]
    },
    {
      "cell_type": "code",
      "execution_count": null,
      "metadata": {
        "id": "ewG4I2T_Vnu5"
      },
      "outputs": [],
      "source": [
        "dataset = dgl.data.CSVDataset('your_folder_route')\n",
        "len(dataset)"
      ]
    },
    {
      "cell_type": "code",
      "execution_count": null,
      "metadata": {
        "id": "K9pi_5DIVnxR"
      },
      "outputs": [],
      "source": [
        "graph0, data0 = dataset[0]\n",
        "print(graph0)"
      ]
    },
    {
      "cell_type": "code",
      "execution_count": null,
      "metadata": {
        "id": "tuA_hqkuVnzp"
      },
      "outputs": [],
      "source": [
        "print(data0)"
      ]
    },
    {
      "cell_type": "code",
      "execution_count": null,
      "metadata": {
        "id": "J0sldjRbVn2R"
      },
      "outputs": [],
      "source": [
        "# Make self loop\n",
        "self_dataset = []\n",
        "for graph, data in dataset:\n",
        "  graph = dgl.add_self_loop(graph)\n",
        "  self_dataset.append((graph, data))\n",
        "print(len(self_dataset))"
      ]
    },
    {
      "cell_type": "code",
      "execution_count": null,
      "metadata": {
        "id": "tKfna4_-Vn4x"
      },
      "outputs": [],
      "source": [
        "graph0, data0 = self_dataset[0]\n",
        "print(graph0)"
      ]
    },
    {
      "cell_type": "code",
      "execution_count": null,
      "metadata": {
        "id": "qnjmJUjJVn7k"
      },
      "outputs": [],
      "source": [
        "print(data0)"
      ]
    },
    {
      "cell_type": "code",
      "execution_count": null,
      "metadata": {
        "id": "bhC-ls-qi3Na"
      },
      "outputs": [],
      "source": [
        "in_fetas = graph0.ndata['feat'].shape[1]\n",
        "edge_fetas = graph0.edata['feat'].shape[1]"
      ]
    },
    {
      "attachments": {},
      "cell_type": "markdown",
      "metadata": {
        "id": "UlVNMzodW6a5"
      },
      "source": [
        "# Train / Test Split, Batch"
      ]
    },
    {
      "cell_type": "code",
      "execution_count": null,
      "metadata": {
        "id": "bHnyLf3Y23T9"
      },
      "outputs": [],
      "source": [
        "labels = np.array([self_dataset[i][1] for i in range(len(self_dataset))])\n",
        "\n",
        "neg_indices = np.where(labels == 0)[0]\n",
        "pos_indices = np.where(labels == 1)[0]\n",
        "\n",
        "train_ratio ,val_ratio, test_ratio = 0.6, 0.2, 0.2\n",
        "\n",
        "train_neg, val_test_neg = train_test_split(neg_indices, train_size = train_ratio, random_state = 12)\n",
        "val_neg, test_neg = train_test_split(val_test_neg, train_size = 0.5, random_state = 12)\n",
        "\n",
        "train_pos, val_test_pos = train_test_split(pos_indices, train_size = train_ratio, random_state = 12)\n",
        "val_pos, test_pos = train_test_split(val_test_pos, train_size = 0.5, random_state = 12)\n",
        "\n",
        "train_indices = np.concatenate([train_neg, train_pos])\n",
        "val_indices = np.concatenate([val_neg, val_pos])\n",
        "test_indices = np.concatenate([test_neg, test_pos])"
      ]
    },
    {
      "cell_type": "code",
      "execution_count": null,
      "metadata": {
        "id": "cqqUYuqQ33RX"
      },
      "outputs": [],
      "source": [
        "train_dataset, val_dataset, test_dataset = [], [], []\n",
        "\n",
        "for index in train_indices:\n",
        "  train_dataset.append(self_dataset[index])\n",
        "np.random.shuffle(train_dataset)\n",
        "\n",
        "for index in val_indices:\n",
        "  val_dataset.append(self_dataset[index])\n",
        "np.random.shuffle(val_dataset)\n",
        "\n",
        "for index in test_indices:\n",
        "  test_dataset.append(self_dataset[index])\n",
        "np.random.shuffle(test_dataset)\n"
      ]
    },
    {
      "attachments": {},
      "cell_type": "markdown",
      "metadata": {
        "id": "l7y7T2mCYU-4"
      },
      "source": [
        "#Modeling"
      ]
    },
    {
      "cell_type": "code",
      "execution_count": null,
      "metadata": {
        "id": "h_c-u_VAVoFz"
      },
      "outputs": [],
      "source": [
        "from dgl.nn import EdgeGATConv, AvgPooling\n",
        "\n",
        "class EdgeGATModel(nn.Moudle):\n",
        "  def __init__(self, in_feats, edge_feats, hidden_feats, out_feats, num_heads):\n",
        "    super(EdgeGATModel, self).__init__()\n",
        "    self.edge_gat1 = EdgeGATConv(in_feats = in_feats,\n",
        "                                 edge_feats = edge_feats,\n",
        "                                 out_feats = hidden_feats,\n",
        "                                 num_heads = num_heads)\n",
        "    self.edge_gat2 = EdgeGATConv(in_feats = hidden_feats,\n",
        "                                 edge_feats = edge_feats,\n",
        "                                 out_feats = hidden_feats,\n",
        "                                 num_heads = num_heads)\n",
        "    self.Linear = nn.Linear(hidden_feats, 1)\n",
        "\n",
        "  def forward(self, graph, node_feats, edge_feats, num_heads):\n",
        "    hidden1 = self.edge_gat1(graph, node_feats, edge_feats)\n",
        "    hidden1 = torch.mean(hidden1, dim = 1, keepdim = True)\n",
        "    hidden1 = hidden1.view(hidden1.shape[0], -1)\n",
        "    hidden1 = F.leaky_relu(hidden1)\n",
        "\n",
        "    hidden2 = self.edge_gat2(graph, hidden1, edge_feats)\n",
        "    hidden2 = torch.mean(hidden2, dim = 1, keepdim = True)\n",
        "    hidden2 = hidden2.view(hidden2.shape[0], -1)\n",
        "    hidden2 = F.leaky_relu(hidden2)\n",
        "    graph.ndata['h'] = hidden2\n",
        "\n",
        "    hg = dgl.mean_nodes(graph, 'h')\n",
        "    hg = self.Linear(hg)\n",
        "    return hg"
      ]
    },
    {
      "attachments": {},
      "cell_type": "markdown",
      "metadata": {
        "id": "GFHMiJBtjGmW"
      },
      "source": [
        "# Hyper Params (Optuna)"
      ]
    },
    {
      "cell_type": "code",
      "execution_count": null,
      "metadata": {
        "id": "DJJFdlmhj4Je"
      },
      "outputs": [],
      "source": [
        "def objective(trial):\n",
        "  hidden_feats = 2 ** trail.suggest_int('hidden_feats', 3, 5)\n",
        "  num_heads = trial.suggest_int('num_heads', 2, 5)\n",
        "  learning_rate = 10 ** trial.suggest_int('learning_rate', -5, -2)\n",
        "  num_epochs = trial.suggest_int('num_epochs', 10, 100, 10)\n",
        "  batch_size = 2 ** trial.suggest_int('batch_size', 5, 8)\n",
        "\n",
        "  train_dataloader = GraphDataLoader(\n",
        "      train_dataset,\n",
        "      batch_size = batch_size,\n",
        "      drop_last = False)\n",
        "\n",
        "  val_dataloader = GraphDataLoader(\n",
        "      val_dataset,\n",
        "      batch_size = batch_size,\n",
        "      drop_last = False)\n",
        "\n",
        "  model = EdgeGATModel(in_feats = in_feats,\n",
        "                     edge_feats = edge_feats,\n",
        "                     hidden_feats = hidden_feats,\n",
        "                     num_heads = num_heads)\n",
        "\n",
        "  optimizer = Adam(model.parameters(), lr = learning_Rate)\n",
        "  criterion = nn.BCEWithLogitsLoss()\n",
        "\n",
        "  model.train()\n",
        "  for batched_graph, labels in train_dataloader:\n",
        "    optimizer.zero_grad()\n",
        "    pred = model(batched_graph, batched_graph.ndata['feat'], batched_graph.edata['feat'], num_heads)\n",
        "    loss= criterion(pred, labels.float())\n",
        "    loss.backward()\n",
        "    optimizer.step()\n",
        "\n",
        "  val_loss = 0\n",
        "  step = 0\n",
        "  model.eval()\n",
        "\n",
        "  with torch.no_grad():\n",
        "    for batched_graph, labels in val_dataloader:\n",
        "      step += 1\n",
        "      pred = model(batched_graph, batched_graph.ndata['feat'], batched_graph.edata['feat'], num_heads)\n",
        "      loss= criterion(pred, labels.float())\n",
        "      val_loss += loss.item()\n",
        "      average_val_loss = val_loss / step\n",
        "      trial.report(average_val_loss, step)\n",
        "      if trial.should_prune():\n",
        "        raise optuna.TrialPruned()\n",
        "\n",
        "  return average_val_loss"
      ]
    },
    {
      "cell_type": "code",
      "execution_count": null,
      "metadata": {
        "id": "lGMWTlV9lw_W"
      },
      "outputs": [],
      "source": [
        "sampler = TPESampler(seed = 12)\n",
        "study = optuna.create_study(\n",
        "    study_name = 'EdgeGAT_OPT',\n",
        "    direction = 'minimize',\n",
        "    sampler = sampler)\n",
        "study.optimize(objective, n_trials = 100)\n",
        "print('Best Score : ', study.best_value)\n",
        "print('Best Trial : ', study.best_trial.params)"
      ]
    },
    {
      "attachments": {},
      "cell_type": "markdown",
      "metadata": {
        "id": "Rd4qB_aVZgiY"
      },
      "source": [
        "#Training"
      ]
    },
    {
      "cell_type": "code",
      "execution_count": null,
      "metadata": {
        "id": "NWTFnWR2Vn99"
      },
      "outputs": [],
      "source": [
        "train_dataloader = GraphDataLoader(\n",
        "    train_dataset,\n",
        "    batch_size = 2 ** study.best_trial.params['batch_size'],\n",
        "    drop_last = False\n",
        ")\n",
        "\n",
        "val_dataloader = GraphDataLoader(\n",
        "    val_dataset,\n",
        "    batch_size = 2 ** study.best_trial.params['batch_size'],\n",
        "    drop_last = False\n",
        ")\n",
        "\n",
        "test_dataloader = GraphDataLoader(\n",
        "    test_dataset,\n",
        "    batch_size = 2 ** study.best_trial.params['batch_size'],\n",
        "    drop_last = False\n",
        ")"
      ]
    },
    {
      "cell_type": "code",
      "execution_count": null,
      "metadata": {
        "id": "qy3UqyMaVoK8"
      },
      "outputs": [],
      "source": [
        "hidden_feats = 2 ** study.best_trial.params['hidden_feats']\n",
        "learning_rate = 10 ** study.best_trial.params['learning_rate']\n",
        "\n",
        "num_heads = study.best_trial.params['num_heads']\n",
        "num_epochs = study.best_trial.params['num_epochs']"
      ]
    },
    {
      "cell_type": "code",
      "execution_count": null,
      "metadata": {
        "id": "dwDiM-Z5VoNZ"
      },
      "outputs": [],
      "source": [
        "model = EdgeGATModel(in_feats = in_feats,\n",
        "                     edge_feats = edge_feats,\n",
        "                     hidden_feats = hidden_feats,\n",
        "                     num_heads = num_heads)\n",
        "optimizer = Adam(model.parameters(), lr = learning_Rate)\n",
        "criterion = nn.BCEWithLogitsLoss()"
      ]
    },
    {
      "cell_type": "code",
      "execution_count": null,
      "metadata": {
        "id": "y_CyXdXKVoSJ"
      },
      "outputs": [],
      "source": [
        "progress_bar = tqdm(range(num_epochs),desc = 'Model Training')\n",
        "\n",
        "model.train()\n",
        "for epoch in progress_bar:\n",
        "  for batched_graph, labels in train_dataloader:\n",
        "    optimizer.zero_grad()\n",
        "    pred = model(batched_graph, batched_graph.ndata['feat'], batched_graph.edata['feat'], num_heads)\n",
        "    loss = criterion(pred, labels.float())\n",
        "    loss.backward()\n",
        "    optimizer.step()\n",
        "    progress_bar.set_description(f'Epoch - {epoch + 1}')"
      ]
    },
    {
      "attachments": {},
      "cell_type": "markdown",
      "metadata": {
        "id": "DgZ9ae4q44XL"
      },
      "source": [
        "## Validation (Find Optimal Threshold)"
      ]
    },
    {
      "cell_type": "code",
      "execution_count": null,
      "metadata": {
        "id": "GtL_TI8a4-RD"
      },
      "outputs": [],
      "source": [
        "from sklearn.metrics import precision_recall_curve\n",
        "from matplotlib import pyplot as plt"
      ]
    },
    {
      "cell_type": "code",
      "execution_count": null,
      "metadata": {
        "id": "RsSjNaJi5E-T"
      },
      "outputs": [],
      "source": [
        "def find_optimal_threshold(model, dataloader):\n",
        "  model.eval()\n",
        "  with torch.no_grad():\n",
        "    all_pred = []\n",
        "    all_labels = []\n",
        "    for batched_graph, labels in dataloader:\n",
        "      pred = model(batched_graph, batched_graph.ndata['feat'], batched_graph.edata['feat'], num_heads)\n",
        "      all_pred.append(pred)\n",
        "      all_labels.append(labels.float())\n",
        "\n",
        "    all_pred = torch.sigmoid(torch.cat(all_pred))\n",
        "    all_labels = torch.cat(all_labels)\n",
        "    precision, recall, threshold = precision_recall_curve(all_labels, all_pred)\n",
        "    f1 = precision * recall * 2 / (precision + recall)\n",
        "    ix = np.argmax(f1)\n",
        "    opt_thr = threshold[ix]\n",
        "    print(f'Optimal Threshold : {opt_thr:.2f}, F1 Score : {f1[ix]:.2f}')\n",
        "\n",
        "    plt.plot(recall, precision, marker = ',', label = 'EdgeGAT')\n",
        "    plt.scatter(recall[ix], precision[ix], marker = 'o', color = 'black', label = 'Optimal')\n",
        "    plt.title('Precision - Recall Curve')\n",
        "    plt.xlabel('Recall')\n",
        "    plt.ylabel('Precision')\n",
        "    plt.legend()\n",
        "    plt.show()\n",
        "\n",
        "    return opt_thr"
      ]
    },
    {
      "cell_type": "code",
      "execution_count": null,
      "metadata": {
        "id": "OWIdpLJi6P8s"
      },
      "outputs": [],
      "source": [
        "best_threshold = find_optimal_threshold(model, val_dataloader)"
      ]
    },
    {
      "attachments": {},
      "cell_type": "markdown",
      "metadata": {
        "id": "qOkPRqFS6Uwz"
      },
      "source": [
        "## Test (Result)"
      ]
    },
    {
      "cell_type": "code",
      "execution_count": null,
      "metadata": {
        "id": "107ZjOLXVoUz"
      },
      "outputs": [],
      "source": [
        "def evaluate(model, dataloader, threshold):\n",
        "  model.eval()\n",
        "  with torch.no_grad():\n",
        "    all_pred = []\n",
        "    all_labels = []\n",
        "    for batched_graph, labels in dataloader:\n",
        "      pred = model(batched_graph, batched_graph.ndata['feat'], batched_graph.edata['feat'], num_heads)\n",
        "      all_pred.append(pred)\n",
        "      all_labels.append(labels.float())\n",
        "\n",
        "    all_pred = torch.sigmoid(torch.cat(all_pred))\n",
        "    all_labels = torch.cat(all_labels)\n",
        "    pred_labels = (all_pred >= threshold).long()\n",
        "    f1 = f1_score(all_labels, pred_labels)\n",
        "    recall = recall_score(all_labels, pred_labels)\n",
        "    accuracy = (pred_labels == all_labels).float().mean().item()\n",
        "\n",
        "    return f1, recall, accuracy"
      ]
    },
    {
      "cell_type": "code",
      "execution_count": null,
      "metadata": {
        "id": "Y8PgR5F3VoXh"
      },
      "outputs": [],
      "source": [
        "f1, recall, accuracy = evaluate(model, test_dataloader, best_threshold)\n",
        "print(f\"Accuracy : {accuracy:.2f}, Recall : {recall:.2f}, F1 : {f1:.2f}\")"
      ]
    },
    {
      "cell_type": "code",
      "execution_count": null,
      "metadata": {
        "id": "9SVMqtljVoaH"
      },
      "outputs": [],
      "source": []
    },
    {
      "cell_type": "code",
      "execution_count": null,
      "metadata": {
        "id": "cuuO8lT6VocR"
      },
      "outputs": [],
      "source": []
    },
    {
      "cell_type": "code",
      "execution_count": null,
      "metadata": {
        "id": "xo6_C17TVoe5"
      },
      "outputs": [],
      "source": []
    }
  ],
  "metadata": {
    "accelerator": "GPU",
    "colab": {
      "gpuType": "T4",
      "provenance": []
    },
    "kernelspec": {
      "display_name": "Python 3",
      "name": "python3"
    },
    "language_info": {
      "name": "python"
    }
  },
  "nbformat": 4,
  "nbformat_minor": 0
}
