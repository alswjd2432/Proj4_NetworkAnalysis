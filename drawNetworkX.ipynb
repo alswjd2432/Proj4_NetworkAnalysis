{
  "nbformat": 4,
  "nbformat_minor": 0,
  "metadata": {
    "colab": {
      "provenance": []
    },
    "kernelspec": {
      "name": "python3",
      "display_name": "Python 3"
    },
    "language_info": {
      "name": "python"
    }
  },
  "cells": [
    {
      "cell_type": "code",
      "execution_count": 1,
      "metadata": {
        "id": "ySbtLJ1Pqppk"
      },
      "outputs": [],
      "source": [
        "import warnings\n",
        "import pandas as pd\n",
        "import networkx as nx\n",
        "import matplotlib.pyplot as plt"
      ]
    },
    {
      "cell_type": "code",
      "source": [
        "# dataframe은 cus, cprl, dcd,  weight로 구성\n",
        "# dcd = 1이면 cus <- cprl 방향, dcd = 2이면 cus -> cprl 방향\n",
        "data = pd.read_csv('network_data.csv')"
      ],
      "metadata": {
        "id": "eTtH2AKxruqj"
      },
      "execution_count": null,
      "outputs": []
    },
    {
      "cell_type": "code",
      "source": [
        "red = [] # 빨간 색으로 표시하고 싶은 노드의 이름 넣기\n",
        "blue = ['CASH'] # 파란 색으로 표시하고 싶은 노드의 이름 넣기\n",
        "# 기본 색은 하늘색"
      ],
      "metadata": {
        "id": "9mRBHMrCw1Mh"
      },
      "execution_count": null,
      "outputs": []
    },
    {
      "cell_type": "code",
      "source": [
        "from sklearn.preprocessing import MinMaxScaler\n",
        "scaler = MinMaxScaler()\n",
        "data['minmax'] = scaler.fit_transform(data[['weight']]) +0.0001"
      ],
      "metadata": {
        "id": "jBgdMp0PrCYP"
      },
      "execution_count": 2,
      "outputs": []
    },
    {
      "cell_type": "code",
      "source": [
        "def make_network_data(df):\n",
        "  d02_net = df[['cus','cprl','dcd','minmax']]\n",
        "  d02_net.rename(colums = {'cus':'to', 'cprl':'from'},inplace = True)\n",
        "\n",
        "  #방향에 따라 노드 순서 재배열 하기\n",
        "  mask = d02_net['dcd'] == 2 #조건 정의\n",
        "  d02_net.loc[mask,['from','to']] = d02_net.loc[mask, ['to','from']].values\n",
        "  d02_net.drop(['dcd'],inplace=True, axis =1)\n",
        "\n",
        "  #엣지 만들기\n",
        "  d02_net['weighted_edge'] = list(zip(d02_net['from'], d02_net['to'], d02_net['minmax']))\n",
        "  d02_net['edge'] = list(zip(d02_net['from'],d02_net['to']))\n",
        "\n",
        "  return d02_net"
      ],
      "metadata": {
        "id": "ZQppWbeprqHV"
      },
      "execution_count": null,
      "outputs": []
    },
    {
      "cell_type": "code",
      "source": [
        "#연결된 노드를 확인하기 위해 네트워크 구축\n",
        "g = nx.from_pandas_edgelist(make_network_data(data), 'from', 'to', edge_attr ='minmax')\n",
        "\n",
        "#conneted_component 찾기 : 각 리스트 원소는 connected graph 안에 존재한다.\n",
        "sorted(nx.connected_components(g))"
      ],
      "metadata": {
        "id": "WKYAoYF_tXFK"
      },
      "execution_count": null,
      "outputs": []
    },
    {
      "cell_type": "code",
      "source": [
        "#connected graph 하나씩 그리기 - weighted edges version\n",
        "connected_nodes = sorted(nx.connected_components(g))\n",
        "for i in range(len(connected_nodes)):\n",
        "  nodes_list = connected_nodes[i]\n",
        "\n",
        "  graph1 = data[data['cus'].isin(nodes_list)|data['cprl'].isin(nodes_list)]\n",
        "  case_net = make_network_data(graph1)\n",
        "\n",
        "  G1 = nx.DiGraph()\n",
        "  G1.add_nodes_from(nodes_list)\n",
        "  G1.add_weighted_edges_from(list(case_net['weighted_edge']))\n",
        "\n",
        "  plt.figure(figsize=(12,12))\n",
        "  edge_widths = [d['weight']*10 for u,v,d in G1.edges(data=True)]\n",
        "\n",
        "  node_colors = []\n",
        "  for node in G1.nodes:\n",
        "    if node not in red:\n",
        "      node_colors.append('lightblue')\n",
        "    elif node in blue:\n",
        "      node_colors.append('dodgerblue')\n",
        "    else:\n",
        "      node_colors.append('#fc8d62')\n",
        "\n",
        "  layout = nx.fruchterman_reingold_layout(G1, iterations =20) #nx.spring_layout(G1) 혹은 nx.kamada_kawai_layout(G1) 등 사용 가능\n",
        "  nx.draw_networkx_nodes(G1,layout, node_size =100, node_color = node_colors)\n",
        "  nx.draw_networkx_edges(G1, layout, arrowsize = 30, width=edge_widths, edge_color = 'gray')\n",
        "  nx.draw_networkx_labels(G1, layout) # 생략 가능 : node의 이름 띄우기\n",
        "  plt.axis('off')\n",
        "\n",
        "  graph_title = 'CASE_ID:' + str(i)\n",
        "  plt.title(graph_title)\n",
        "\n",
        "  plt.show()"
      ],
      "metadata": {
        "id": "yAPJwcwYtXHo"
      },
      "execution_count": null,
      "outputs": []
    },
    {
      "cell_type": "code",
      "source": [
        "#connected graph 하나씩 그리기 - not weighted edges version\n",
        "connected_nodes = sorted(nx.connected_components(g))\n",
        "for i in range(len(connected_nodes)):\n",
        "  nodes_list = connected_nodes[i]\n",
        "\n",
        "  graph1 = data[data['cus'].isin(nodes_list)|data['cprl'].isin(nodes_list)]\n",
        "  case_net = make_network_data(graph1)\n",
        "\n",
        "  G1 = nx.DiGraph()\n",
        "  G1.add_nodes_from(nodes_list)\n",
        "  G1.add_edges_from(list(case_net['edge']))\n",
        "\n",
        "  plt.figure(figsize=(12,12))\n",
        "\n",
        "  node_colors = []\n",
        "  for node in G1.nodes:\n",
        "    if node not in red:\n",
        "      node_colors.append('lightblue')\n",
        "    elif node in blue:\n",
        "      node_colors.append('dodgerblue')\n",
        "    else:\n",
        "      node_colors.append('#fc8d62')\n",
        "\n",
        "  layout = nx.fruchterman_reingold_layout(G1, iterations =20) #nx.spring_layout(G1) 혹은 nx.kamada_kawai_layout(G1) 등 사용 가능\n",
        "  nx.draw_networkx_nodes(G1,layout, node_size =100, node_color = node_colors)\n",
        "  nx.draw_networkx_edges(G1, layout, arrowsize = 30, edge_color = 'gray')\n",
        "  nx.draw_networkx_labels(G1, layout) # 생략 가능 : node의 이름 띄우기\n",
        "  plt.axis('off')\n",
        "\n",
        "  graph_title = 'CASE_ID:' + str(i)\n",
        "  plt.title(graph_title)\n",
        "\n",
        "  plt.show()"
      ],
      "metadata": {
        "id": "9Lt6U1h4tXKQ"
      },
      "execution_count": null,
      "outputs": []
    },
    {
      "cell_type": "code",
      "source": [],
      "metadata": {
        "id": "fJTFxa3WtXMp"
      },
      "execution_count": null,
      "outputs": []
    }
  ]
}