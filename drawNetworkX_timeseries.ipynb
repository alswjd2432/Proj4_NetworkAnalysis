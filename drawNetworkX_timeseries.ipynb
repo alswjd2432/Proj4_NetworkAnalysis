{
  "nbformat": 4,
  "nbformat_minor": 0,
  "metadata": {
    "colab": {
      "provenance": []
    },
    "kernelspec": {
      "name": "python3",
      "display_name": "Python 3"
    },
    "language_info": {
      "name": "python"
    }
  },
  "cells": [
    {
      "cell_type": "code",
      "source": [
        "!sudo apt-get install -y fonts-nanum\n",
        "!sudo fc-cache -fv\n",
        "!rm ~/.cache/matplotlib -rf"
      ],
      "metadata": {
        "colab": {
          "base_uri": "https://localhost:8080/"
        },
        "id": "7oB3rImP1tmL",
        "outputId": "90e85e3c-3f97-4f86-ed6a-6d172ad6080b"
      },
      "execution_count": null,
      "outputs": [
        {
          "output_type": "stream",
          "name": "stdout",
          "text": [
            "Reading package lists... Done\n",
            "Building dependency tree... Done\n",
            "Reading state information... Done\n",
            "The following NEW packages will be installed:\n",
            "  fonts-nanum\n",
            "0 upgraded, 1 newly installed, 0 to remove and 8 not upgraded.\n",
            "Need to get 10.3 MB of archives.\n",
            "After this operation, 34.1 MB of additional disk space will be used.\n",
            "Get:1 http://archive.ubuntu.com/ubuntu jammy/universe amd64 fonts-nanum all 20200506-1 [10.3 MB]\n",
            "Fetched 10.3 MB in 1s (9,700 kB/s)\n",
            "debconf: unable to initialize frontend: Dialog\n",
            "debconf: (No usable dialog-like program is installed, so the dialog based frontend cannot be used. at /usr/share/perl5/Debconf/FrontEnd/Dialog.pm line 78, <> line 1.)\n",
            "debconf: falling back to frontend: Readline\n",
            "debconf: unable to initialize frontend: Readline\n",
            "debconf: (This frontend requires a controlling tty.)\n",
            "debconf: falling back to frontend: Teletype\n",
            "dpkg-preconfigure: unable to re-open stdin: \n",
            "Selecting previously unselected package fonts-nanum.\n",
            "(Reading database ... 120509 files and directories currently installed.)\n",
            "Preparing to unpack .../fonts-nanum_20200506-1_all.deb ...\n",
            "Unpacking fonts-nanum (20200506-1) ...\n",
            "Setting up fonts-nanum (20200506-1) ...\n",
            "Processing triggers for fontconfig (2.13.1-4.2ubuntu5) ...\n",
            "/usr/share/fonts: caching, new cache contents: 0 fonts, 1 dirs\n",
            "/usr/share/fonts/truetype: caching, new cache contents: 0 fonts, 3 dirs\n",
            "/usr/share/fonts/truetype/humor-sans: caching, new cache contents: 1 fonts, 0 dirs\n",
            "/usr/share/fonts/truetype/liberation: caching, new cache contents: 16 fonts, 0 dirs\n",
            "/usr/share/fonts/truetype/nanum: caching, new cache contents: 12 fonts, 0 dirs\n",
            "/usr/local/share/fonts: caching, new cache contents: 0 fonts, 0 dirs\n",
            "/root/.local/share/fonts: skipping, no such directory\n",
            "/root/.fonts: skipping, no such directory\n",
            "/usr/share/fonts/truetype: skipping, looped directory detected\n",
            "/usr/share/fonts/truetype/humor-sans: skipping, looped directory detected\n",
            "/usr/share/fonts/truetype/liberation: skipping, looped directory detected\n",
            "/usr/share/fonts/truetype/nanum: skipping, looped directory detected\n",
            "/var/cache/fontconfig: cleaning cache directory\n",
            "/root/.cache/fontconfig: not cleaning non-existent cache directory\n",
            "/root/.fontconfig: not cleaning non-existent cache directory\n",
            "fc-cache: succeeded\n"
          ]
        }
      ]
    },
    {
      "cell_type": "code",
      "execution_count": null,
      "metadata": {
        "id": "t0S9r_QnYDDk"
      },
      "outputs": [],
      "source": [
        "import pandas as pd\n",
        "import numpy as np\n",
        "import warnings\n",
        "import networkx as nx\n",
        "import matplotlib.pyplot as plt\n",
        "import matplotlib.colors as mcolors\n",
        "pd.set_option('display.float_format', lambda x: '%.2f' %x)\n",
        "warnings.filterwarnings('ignore')"
      ]
    },
    {
      "cell_type": "code",
      "source": [
        "import matplotlib.font_manager as fm\n",
        "from matplotlib import rc\n",
        "\n",
        "font_list = fm.findSystemFonts(fontpaths=None, fontext = 'ttf')\n",
        "font_list"
      ],
      "metadata": {
        "colab": {
          "base_uri": "https://localhost:8080/"
        },
        "id": "vnZKf2UMZRUs",
        "outputId": "d57bb655-7def-41c9-e5ec-02599326fc23"
      },
      "execution_count": null,
      "outputs": [
        {
          "output_type": "execute_result",
          "data": {
            "text/plain": [
              "['/usr/share/fonts/truetype/liberation/LiberationSans-BoldItalic.ttf',\n",
              " '/usr/share/fonts/truetype/nanum/NanumMyeongjoBold.ttf',\n",
              " '/usr/share/fonts/truetype/liberation/LiberationSansNarrow-Bold.ttf',\n",
              " '/usr/share/fonts/truetype/liberation/LiberationSerif-Regular.ttf',\n",
              " '/usr/share/fonts/truetype/nanum/NanumSquareRoundR.ttf',\n",
              " '/usr/share/fonts/truetype/nanum/NanumSquareRoundB.ttf',\n",
              " '/usr/share/fonts/truetype/liberation/LiberationSansNarrow-Regular.ttf',\n",
              " '/usr/share/fonts/truetype/nanum/NanumBarunGothicBold.ttf',\n",
              " '/usr/share/fonts/truetype/humor-sans/Humor-Sans.ttf',\n",
              " '/usr/share/fonts/truetype/nanum/NanumGothic.ttf',\n",
              " '/usr/share/fonts/truetype/nanum/NanumGothicCoding.ttf',\n",
              " '/usr/share/fonts/truetype/nanum/NanumGothicCodingBold.ttf',\n",
              " '/usr/share/fonts/truetype/liberation/LiberationSans-Bold.ttf',\n",
              " '/usr/share/fonts/truetype/liberation/LiberationMono-Bold.ttf',\n",
              " '/usr/share/fonts/truetype/nanum/NanumSquareR.ttf',\n",
              " '/usr/share/fonts/truetype/liberation/LiberationMono-Italic.ttf',\n",
              " '/usr/share/fonts/truetype/nanum/NanumBarunGothic.ttf',\n",
              " '/usr/share/fonts/truetype/liberation/LiberationSans-Italic.ttf',\n",
              " '/usr/share/fonts/truetype/liberation/LiberationSerif-Italic.ttf',\n",
              " '/usr/share/fonts/truetype/liberation/LiberationSerif-Bold.ttf',\n",
              " '/usr/share/fonts/truetype/liberation/LiberationSans-Regular.ttf',\n",
              " '/usr/share/fonts/truetype/liberation/LiberationSansNarrow-BoldItalic.ttf',\n",
              " '/usr/share/fonts/truetype/nanum/NanumGothicBold.ttf',\n",
              " '/usr/share/fonts/truetype/nanum/NanumMyeongjo.ttf',\n",
              " '/usr/share/fonts/truetype/liberation/LiberationSerif-BoldItalic.ttf',\n",
              " '/usr/share/fonts/truetype/liberation/LiberationMono-Regular.ttf',\n",
              " '/usr/share/fonts/truetype/liberation/LiberationMono-BoldItalic.ttf',\n",
              " '/usr/share/fonts/truetype/nanum/NanumSquareB.ttf',\n",
              " '/usr/share/fonts/truetype/liberation/LiberationSansNarrow-Italic.ttf']"
            ]
          },
          "metadata": {},
          "execution_count": 2
        }
      ]
    },
    {
      "cell_type": "code",
      "source": [
        "font_name = fm.FontProperties(fname='/usr/share/fonts/truetype/nanum/NanumBarunGothicBold.ttf').get_name() #font_list에 있는 경로 중 하나로 설정하기\n",
        "plt.rc('font', family = font_name)"
      ],
      "metadata": {
        "id": "xc1aF_MQaKe6"
      },
      "execution_count": null,
      "outputs": []
    },
    {
      "cell_type": "code",
      "source": [
        "liar_data = pd.read_csv('/DATA/DATA01_ENC.csv',index_col=0)\n",
        "data02 = pd.read_csv('/DATA/DATA02_ENC.csv',index_col=0)\n",
        "data04 = pd.read_csv('/DATA/DATA04_ENC.csv',index_col=0)\n",
        "data01_norm = pd.read_csv('/DATA/DATA01_NORM.csv',index_col=0)\n",
        "data02_norm = pd.read_csv('/DATA/DATA02_NORM.csv',index_col=0)\n",
        "data04_norm = pd.read_csv('/DATA/DATA04_NORM.csv',index_col=0)"
      ],
      "metadata": {
        "id": "Y9wiFsK7aR55"
      },
      "execution_count": null,
      "outputs": []
    },
    {
      "cell_type": "code",
      "source": [
        "data01 = pd.concat([liar_data, data01_norm])\n",
        "liar = list(liar_data['CUS_ACN_ENC'])\n",
        "data= pd.concat([data02, data04, data02_norm, data04_norm])\n"
      ],
      "metadata": {
        "id": "cB2RshHmiaLB"
      },
      "execution_count": null,
      "outputs": []
    },
    {
      "cell_type": "code",
      "source": [
        "data['CNAC_DPSR_NM'] = data['CNAC_DPSR_NM'].str.replac(\"-\",'')\n",
        "data['CNAC_DPSR_NM'] = data['CNAC_DPSR_NM'].str.replac(\"_\",'')\n",
        "data['CNAC_DPSR_NM'] = data['CNAC_DPSR_NM'].str.strip()"
      ],
      "metadata": {
        "id": "Y3nv1Ravi_SL"
      },
      "execution_count": null,
      "outputs": []
    },
    {
      "cell_type": "code",
      "source": [
        "data_cash = data[data['NODES']=='']\n",
        "data_normal = data[data['NODES']!='']\n",
        "data_cash['NODES'] = 'CASH' + data['CASE_ID'].astype('str')\n",
        "data = pd.concat([data_cash,data_normal])"
      ],
      "metadata": {
        "id": "5k9XwzQ_i_U3"
      },
      "execution_count": null,
      "outputs": []
    },
    {
      "cell_type": "code",
      "source": [
        "cash = set(data_cash['NODES'])"
      ],
      "metadata": {
        "id": "_9REnOaci_Xp"
      },
      "execution_count": null,
      "outputs": []
    },
    {
      "cell_type": "code",
      "source": [
        "def df_pp(df):\n",
        "  df_net = df[['CUS_ACN_ENC','NODES', 'LOG_AMT','DWM_DCD','CASE_ID', 'MIN_TRN_YMD', 'MAX_TRN_YMD', 'RMTN_RQTR_NM', 'CNAC_DPSR_NM']]\n",
        "\n",
        "  df_net.rename(columns = {'CUS_ACN_ENC':'to','NODES':'from'},inplace=True)\n",
        "\n",
        "  mask = df_net['DWM_DCD'] == 2\n",
        "  df_net.loc[mask, ['from','to']] = df_net.loc[mask,['to','from']].values\n",
        "  df_net.drop(['DWM_DCD'],inplace=True,axis=1)\n",
        "\n",
        "  from sklearn.preprocessing import MinMaxScaler\n",
        "\n",
        "  scaler = MinMaxScaler()\n",
        "  df_net['LOG_AMT_minmax'] = scaler.fit_transform(df_net[['LOG_AMT']]) + 0.0001\n",
        "  df_net['MIN_TRN_YMD'] = pd.to_datetime(df_net['MIN_TRN_YMD'])\n",
        "  df_net['MAX_TRN_YMD'] = pd.to_datetime(df_net['MAX_TRN_YMD'])\n",
        "\n",
        "  df_net['edge'] = list(zip(df_net['from'],df_net['to']))\n",
        "  df_net['weighted_edge'] = list(zip(df_net['from'], df_net['to'], df_net['LOG_AMT_minmax']))\n",
        "\n",
        "  return df_net"
      ],
      "metadata": {
        "id": "dHpw-IiskbKp"
      },
      "execution_count": null,
      "outputs": []
    },
    {
      "cell_type": "code",
      "source": [
        "rmtn_cnt = data.groupby(['CASE_ID','RMTN_RQTR_NM'])['RMTN_RQTR_NM'].count()\n",
        "rmtn_cnt = rmtn_cnt.reset_index(name = 'Count')\n",
        "rmtn_cnt = rmtn_cnt[rmtn_cnt['RMTN_RQRT_NM']!='']\n",
        "rmtn_cnt = rmtn_cnt[rmtn_cnt['Count']>1]\n",
        "\n",
        "grouped = rmtn_cnt.groupby('CASE_ID')\n",
        "rmtn_dict = {}\n",
        "\n",
        "def abb_data(df,case_id):\n",
        "  df = df[df['CASE_ID']==case_id]\n",
        "  all_nodes = set(df['to']).union(set(df['from']))\n",
        "  case_liar = set(liar_data['CUS_ACN_ENC'])&set(all_nodes)\n",
        "  not_del = ['대부', '크레디트', '파이낸스','파이낸셜', '캐피탈', '코인', '주식','유한','비트']\n",
        "  df1 = df[df['RMTN_RQTR_NM'].str.contains('|'.join(not_del))|df['RMTN_RQTR_NM'].isin(rmtn_dict[case_id])|df['RMTN_RQTR_NM'].str.match('^[a-zA-Z\\s]+$')]\n",
        "  df2 = df[~(df['RMTN_RQTR_NM'].str.contains('|'.join(not_del))|df['RMTN_RQTR_NM'].isin(rmtn_dict[case_id])|df['RMTN_RQTR_NM'].str.match('^[a-zA-Z\\s]+$'))]\n",
        "  df2 = df2[df2['to'].isin(case_liar)|df2['from'].isin(case_liar)|df2['to'].str.contains('CASH')|df2['from'].str.contains('CASH')]\n",
        "  df = pd.concat([df1,df2])\n",
        "  return df"
      ],
      "metadata": {
        "id": "RwZSlJqPowdv"
      },
      "execution_count": null,
      "outputs": []
    },
    {
      "cell_type": "code",
      "source": [
        "import math\n",
        "def make_coor(angle):\n",
        "  x = math.cos(math.pi*angle)\n",
        "  y = math.sin(math.pi*angle)\n",
        "  return [x,y]\n",
        "def multi_radius(coor,r):\n",
        "  return [i*r for i in coor]\n",
        "def rotate(x,angle): #rotation matrix 곱하기\n",
        "  x1, x2 = x[0],x[1]\n",
        "  return [math.cos(math.pi*(angle-1/2))*x1-math.sin(math.pi*(angle-1/2))*x2, math.sin(math.pi*(angle-1/2))*x1 + math.cos(math.pi*(angle-1/2))*x2]"
      ],
      "metadata": {
        "id": "1cioXdpZowgG"
      },
      "execution_count": null,
      "outputs": []
    },
    {
      "cell_type": "code",
      "source": [
        "def pos1(dnet,case_id):\n",
        "  seed = list(data01[data01['CASE_ID']==case_id]['CUS_ACN_ENC'])[0]\n",
        "\n",
        "  # 각도 정해주기\n",
        "  all_nodes = list((set(pr['to'])).union(set(pr['from'])))\n",
        "  all_nodes.remove(seed)\n",
        "  dic_min = {}\n",
        "  for node in all_nodes:\n",
        "    min_date = pr[(pr['to']==node)|(pr['from']==node)]['MIN_TRN_YMD'].min()\n",
        "    dic_min[node] = min_date\n",
        "\n",
        "  dic_df = pd.DateFrame(columns = ['NODE','DATE'])\n",
        "  for key, value in dic_min.items():\n",
        "    new_data = {'NODE':key, 'DATE':value}\n",
        "    dic_df = dic_df.append(new_data, ignore_index = True)\n",
        "\n",
        "  dic_df = dic_df.sort_values(by='DATE',ascending = False)\n",
        "  dic_df.reset_index(inplace=True)\n",
        "\n",
        "  dic_df['order'] = (dic_df.index + 1)/(len(dic_df)+1)\n",
        "  dic_df['coor'] = dic_df['order'].apply(make_coor)\n",
        "\n",
        "  depth1_nodes = set(pr[(pr['to']==seed)|(pr['from']==seed)]['to']).union(set(pr[(pr['to']==seed)|(pr['from']==seed)]['from']))\n",
        "  depth2_nodes = set(pr[(pr['to']!=seed)&(pr['from']!=seed)]['to']).union(set(pr[(pr['to']!=seed)&(pr['from']!=seed)]['from']))\n",
        "  depth1and2 = depth2_nodes & depth1_nodes #depth1과 depth 둘다에 속하는 노드들\n",
        "  depth2_nodes = depth2_nodes - depth1_nodes #depth1에 속하지 않고 depth2에만 속하는 노드들\n",
        "\n",
        "  dic_df.loc[dic_df['NODE'].isin(depth1and2),'coor'] = dic_df.loc[dic_df['NODE'].isin(depth1and2),'coor'].apply(multi_radius,args =[2]) #반지름 길이 2\n",
        "  dic_df.loc[dic_df['NODE'].isin(depth2_nodes),'coor'] = dic_df.loc[dic_df['NODE'].isin(depth2_nodes),'coor'].apply(multi_radius,args =[3]) #반지름 길이 3\n",
        "\n",
        "  pos = {seed: [0,0]} #노드 : 좌표\n",
        "  for i in range(len(dic_df)):\n",
        "    pos[dic_df.loc[i]['NODE']] = dic_df.loc[i]['coor']\n",
        "\n",
        "  return pos"
      ],
      "metadata": {
        "id": "hCtIILKRkeKa"
      },
      "execution_count": null,
      "outputs": []
    },
    {
      "cell_type": "code",
      "source": [
        "def pos2(dnet,case_id):\n",
        "  seed = list(data01[data01['CASE_ID']==case_id]['CUS_ACN_ENC'])[0]\n",
        "\n",
        "  # 각도 정해주기\n",
        "  all_nodes = list((set(pr['to'])).union(set(pr['from'])))\n",
        "  all_nodes.remove(seed)\n",
        "  dic_min = {}\n",
        "  for node in all_nodes:\n",
        "    min_date = pr[(pr['to']==node)|(pr['from']==node)]['MIN_TRN_YMD'].min()\n",
        "    dic_min[node] = min_date\n",
        "\n",
        "  dic_df = pd.DateFrame(columns = ['NODE','DATE'])\n",
        "  for key, value in dic_min.items():\n",
        "    new_data = {'NODE':key, 'DATE':value}\n",
        "    dic_df = dic_df.append(new_data, ignore_index = True)\n",
        "\n",
        "  dic_df = dic_df.sort_values(by='DATE',ascending = False)\n",
        "  dic_df.reset_index(inplace=True)\n",
        "\n",
        "  dic_df['order'] = (dic_df.index + 1)/(len(dic_df)+1)\n",
        "  dic_df['coor'] = dic_df['order'].apply(make_coor)\n",
        "\n",
        "  depth1_nodes = set(pr[(pr['to']==seed)|(pr['from']==seed)]['to']).union(set(pr[(pr['to']==seed)|(pr['from']==seed)]['from']))\n",
        "  depth2_nodes = set(pr[(pr['to']!=seed)&(pr['from']!=seed)]['to']).union(set(pr[(pr['to']!=seed)&(pr['from']!=seed)]['from']))\n",
        "  depth1and2 = depth2_nodes & depth1_nodes #depth1과 depth 둘다에 속하는 노드들\n",
        "  depth2_nodes = depth2_nodes - depth1_nodes #depth1에 속하지 않고 depth2에만 속하는 노드들\n",
        "\n",
        "  dic_df.loc[dic_df['NODE'].isin(depth1and2),'coor'] = dic_df.loc[dic_df['NODE'].isin(depth1and2),'coor'].apply(multi_radius, args[2.2])\n",
        "\n",
        "  for node in depth2_nodes:\n",
        "    if len(pr[pr['to']==node]) != 0:\n",
        "      match_node = list(pr[pr['to']==node])[0]\n",
        "    elif len(pr[pr['from']==node]) != 0:\n",
        "      match_node = list(pr[pr['from']==node])[0]\n",
        "    add_coor = dic_df.loc[dic_df['NODE']==match_node, 'coor'].values[0]\n",
        "    angle = dic_df.loc[dic_df['NODE'] == match_node]['order'].values[0]\n",
        "    dic_df.loc[dic_df['NODE']==node, 'coor'] = dic_df.loc[dic_df['NODE']==node, 'coor'].apply(add_and_rotate, args = [angle])\n",
        "    dic_df.loc[dic_df['NODE']==node, 'coor'] = dic_df.loc[dic_df['NODE']==node, 'coor'].apply(lambda x: [x[0]*0.5 + add_coor[0], x[1]*0.5+add_coor[1]])\n",
        "\n",
        "    pos = {seed : [0,0]}\n",
        "    for i in range(len(dic_df)):\n",
        "      pos[dic_df.loc[i]['NODE']] = dic_df.loc[i]['coor']\n",
        "\n",
        "    return pos"
      ],
      "metadata": {
        "id": "AjCJCWyADfAh"
      },
      "execution_count": null,
      "outputs": []
    },
    {
      "cell_type": "code",
      "source": [
        "def color_apply(i,color_range):\n",
        "  viridis_cmap = plt.get_cmap('plasma') #viridis 혹은 hsv 등 다른 그라데이션으로 대체 가능\n",
        "  values = [x/color_range for x in range(color_range+1)]\n",
        "  colors = viridis_cmap(values)\n",
        "  hex_colors =[mcolors.rgb2hex(color) for color in colors]\n",
        "  return hex_color[i]\n",
        "\n",
        "def case_nodes_edges(df,case_id):\n",
        "  case_net = df[df['CASE_ID']==case_id]\n",
        "  case_net = abb_data(df,case_id)\n",
        "\n",
        "  case_net = case_net.sort_values(by = 'MIN_TRN_YMD')\n",
        "  case_net.reset_index(inplace=True)\n",
        "\n",
        "  min_min = case_net['MIN_TRN_YMD'].min()\n",
        "  case_net['Edge_colors'] = case_net['MIN_TRN_YMD']-min_min\n",
        "  case_net['Edge_colors'] = case_net['Edge_colors'].astype(str)\n",
        "  case_net['Edge_colors'] = case_net['Edge_colors'].str.extract('(\\d+)',expand = False)\n",
        "  case_net['Edge_colors'] = case_net['Edge_colors'].astype(int)\n",
        "\n",
        "  color_range = case_net['Edge_colors'].max()\n",
        "  case_net['Edge_colors'] = case_net['Edge_colors'].apply(color_apply,args=[color_range])\n",
        "\n",
        "  nodes = set(case_net['to'].append(case_net['from']))\n",
        "  edges = list(case_net['weighted_edge'])\n",
        "  edge_colors = list(case_net['Edge_colors'])\n",
        "\n",
        "  if pos == 1:\n",
        "    position = pos1(case_net, case_id)\n",
        "  elif pos == 2:\n",
        "    position = pos2(case_net, case_id)\n",
        "\n",
        "  return case_net, nodes, edges, position"
      ],
      "metadata": {
        "id": "JnRzJ-uN4GLb"
      },
      "execution_count": null,
      "outputs": []
    },
    {
      "cell_type": "code",
      "source": [
        "def rmtn_match(data,case_id,nodes):\n",
        "  df_case = data[data['CASE_ID']==case_id]\n",
        "  node_rmtn = dict()\n",
        "  for i in range(len(nodes)):\n",
        "    node_acn = list(nodes[i])\n",
        "    if 'CASH' in node_acn:\n",
        "      rmtn = node_acn\n",
        "    else:\n",
        "      a = df_case[df_case['NODES'].isin(set(nodes))]['NODES'] == node_acn\n",
        "      if len(a[a])==0: #CUS에 들어가 있는 경우 or 다른 사기계좌의 NODES일 경우\n",
        "        b = data[data['NODES']==node_acn]\n",
        "        if b['RMTN_RQTR_NM'].nunique()==1:\n",
        "          rmtn = b['RMTN_RQTR_NM'].values[0]\n",
        "        else: #적요명 2개 이상인 경우, 계좌주명에서 찾기\n",
        "          if b['CNAC_DPSR_NM'].nunique() == 0:\n",
        "            rmtn = node_acn\n",
        "          elif b['CNAC_DPSR_NM'].nunique() == 1:\n",
        "            rmtn = b['CNAC_DPSR_NM'].values[0]\n",
        "          elif b['CNAC_DPSR_NM'] == 2:\n",
        "            cnac_lst = b['CNAC_DPSR_NM'].value_counts().index\n",
        "            rmtn = [cnac for cnac in cnac_lst if cnac != ''][0]\n",
        "          else:\n",
        "            rmtn = 'rmtn 2over'\n",
        "      else: #NODES 에 있는 경우\n",
        "      c = df_case[df_case['NODES']==node_acn]\n",
        "      if c['RMTN_RQTR_NM'].nunique() == 1:\n",
        "        rmtn = c['RMTN_RQTR_NM'].values[0]\n",
        "      else:\n",
        "        if c['CNAC_DPSR_NM'].nunique() ==0:\n",
        "          rmtn = node_acn\n",
        "        elif c['CNAC_DPSR_NM'].nunique() ==1:\n",
        "          rmtn = c['CNAC_DPSR_NM'].values[0]\n",
        "        elif c['CNAC_DPSR_NM'].nunique() ==2:\n",
        "          cnac_lst = b['CNAC_DPSR_NM'].value_counts().index\n",
        "          rmtn = [cnac for cnac in cnac_lst if cnac != ''][0]\n",
        "        else:\n",
        "          rmtn = 'rmtn 2over'\n",
        "    node_rmtn[node_acn] = rmtn\n",
        "  return node_rmtn"
      ],
      "metadata": {
        "id": "EBb2F9174GOJ"
      },
      "execution_count": null,
      "outputs": []
    },
    {
      "cell_type": "code",
      "source": [
        "def draw_graph(df,case_id, pos = 2, layout = False, weight = False, label=True):\n",
        "  case_net, nodes, edges, position = case_nodes_edges(df,case_id)\n",
        "\n",
        "  G1 = nx.DiGraph()\n",
        "  G1.add_nodes_from(nodes)\n",
        "  G1.add_weighted_edges_from(edges)\n",
        "\n",
        "  #노드 컬러 지정하기\n",
        "  seed = list(data01[data01['CASE_ID']==case_id]['CUS_ACN_ENC'][0])\n",
        "  node_colors = []\n",
        "  for node in G1.nodes:\n",
        "    if node == seed:\n",
        "      if seed in list(liar_data['CUS_ACN_ENC']):\n",
        "        node_colors.append('red') #사기\n",
        "      else:\n",
        "        node_colors.append('limegreen') #정상\n",
        "    elif 'CASH' in node:\n",
        "      node_colors.append('dodgerblue') #현금\n",
        "    elif node not in list(liar_data['CUS_ANC_ENC']):\n",
        "      node_colors.append('lightblue')\n",
        "    else:\n",
        "      node_colors.append('#fc8d62') #사기\n",
        "\n",
        "  #엣지 컬러 지정하기\n",
        "  edge_colors = [list(case_net[case_net['edge']==edges]['Edge_colors'])[0] for edges in G1.edges]\n",
        "  if layout == True:\n",
        "    pos = nx.fruchterman_reingold_layout(G1,iterations = 20) # 다른 layout 지정 가능\n",
        "  else:\n",
        "    pos = position\n",
        "\n",
        "  nx.draw_networkx_nodes(G1, pos, node_size = 200, node_color = node_colors)\n",
        "\n",
        "  if weight == True:\n",
        "    edge_widths = [d['weight']*10 for u,v,d in G1.edges(data=True)]\n",
        "    nx.draw_networkx_edges(G1, pos, arrowsize = 20, width = edge_widths, edge_color = edge_colors)\n",
        "  else:\n",
        "    nx.draw_networkx_edges(G1, pos, arrowsize = 20, edge_color = edge_colors)\n",
        "\n",
        "  if label = True:\n",
        "    node_rmtn = rmtn_match(data,case_id, G1.nodes)\n",
        "    nx.draw_networkx_labels(G1,pos, font_family = font_name, font_size = 10, labels = node_rmtn)\n",
        "\n",
        "  plt.axis('off')\n",
        "  plt.title(f'CASE_ID : {case_id}')\n",
        "  plt.show()"
      ],
      "metadata": {
        "id": "gCf7Mk604GQ8"
      },
      "execution_count": null,
      "outputs": []
    },
    {
      "cell_type": "code",
      "source": [
        "d_net = df_pp(data)\n",
        "draw_graph(d_net,222,label=False)"
      ],
      "metadata": {
        "id": "OdAWhIIP4GTa"
      },
      "execution_count": null,
      "outputs": []
    },
    {
      "cell_type": "code",
      "source": [
        "draw_graph(d_net,222, weight = True, label=False)"
      ],
      "metadata": {
        "id": "cr5Nj_IBqN3r"
      },
      "execution_count": null,
      "outputs": []
    }
  ]
}